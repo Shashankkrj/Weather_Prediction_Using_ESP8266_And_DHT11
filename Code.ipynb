{
 "cells": [
  {
   "cell_type": "markdown",
   "id": "d1510f31",
   "metadata": {},
   "source": [
    "# Weather Prediction Using Arduino , DHT11 and Decision Tree Classifier"
   ]
  },
  {
   "cell_type": "code",
   "execution_count": 3,
   "id": "aca839c5",
   "metadata": {},
   "outputs": [],
   "source": [
    "# Import Libraries\n",
    "import numpy as np\n",
    "import pandas as pd\n",
    "import matplotlib.pyplot as plt\n",
    "import seaborn as sns\n",
    "from sklearn.model_selection import train_test_split\n",
    "from sklearn.tree import DecisionTreeClassifier\n",
    "from micromlgen import port\n",
    "from sklearn import metrics\n",
    "import warnings\n",
    "warnings.filterwarnings('ignore')"
   ]
  },
  {
   "cell_type": "code",
   "execution_count": 66,
   "id": "cdf5e31b",
   "metadata": {},
   "outputs": [],
   "source": [
    "# Storing csv data to dataframe\n",
    "weather_data = pd.read_csv('weather.csv')"
   ]
  },
  {
   "cell_type": "code",
   "execution_count": null,
   "id": "3d24bfa6",
   "metadata": {},
   "outputs": [],
   "source": [
    "weather_data.nunique()"
   ]
  },
  {
   "cell_type": "code",
   "execution_count": 68,
   "id": "a38d7a3e",
   "metadata": {},
   "outputs": [
    {
     "data": {
      "text/plain": [
       "(216, 34)"
      ]
     },
     "execution_count": 68,
     "metadata": {},
     "output_type": "execute_result"
    }
   ],
   "source": [
    "weather_data.shape"
   ]
  },
  {
   "cell_type": "code",
   "execution_count": 69,
   "id": "0564f8a9",
   "metadata": {},
   "outputs": [
    {
     "data": {
      "text/plain": [
       "Index(['City', 'nearest_area__latitude', 'nearest_area__longitude',\n",
       "       'weather__hourly__UTCdate', 'weather__hourly__UTCtime',\n",
       "       'weather__mintempC', 'weather__mintempF', 'weather__uvIndex',\n",
       "       'weather__hourly__time', 'Unnamed: 9', 'Unnamed: 10',\n",
       "       'weather__hourly__tempC', 'weather__hourly__tempF',\n",
       "       'weather__hourly__windspeedMiles', 'weather__hourly__windspeedKmph',\n",
       "       'weather__hourly__winddirDegree', 'weather__hourly__winddir16Point',\n",
       "       'weather__hourly__weatherCode', 'weather__hourly__weatherDesc__value',\n",
       "       'weather__hourly__precipMM', 'weather__hourly__humidity',\n",
       "       'weather__hourly__visibility', 'weather__hourly__pressure',\n",
       "       'weather__hourly__cloudcover', 'weather__hourly__HeatIndexC',\n",
       "       'weather__hourly__HeatIndexF', 'weather__hourly__DewPointC',\n",
       "       'weather__hourly__DewPointF', 'weather__hourly__WindChillC',\n",
       "       'weather__hourly__WindChillF', 'weather__hourly__WindGustMiles',\n",
       "       'weather__hourly__WindGustKmph', 'weather__hourly__FeelsLikeC',\n",
       "       'weather__hourly__FeelsLikeF'],\n",
       "      dtype='object')"
      ]
     },
     "execution_count": 69,
     "metadata": {},
     "output_type": "execute_result"
    }
   ],
   "source": [
    "weather_data.columns"
   ]
  },
  {
   "cell_type": "code",
   "execution_count": 70,
   "id": "7f8e621d",
   "metadata": {},
   "outputs": [],
   "source": [
    "weather_data= weather_data[[\"weather__hourly__tempC\",\"weather__hourly__humidity\",\"weather__hourly__HeatIndexC\",\n",
    "                            \"weather__hourly__weatherDesc__value\"]]"
   ]
  },
  {
   "cell_type": "code",
   "execution_count": 71,
   "id": "83e9fead",
   "metadata": {},
   "outputs": [],
   "source": [
    "weather_data.columns= [\"temperature\",\"humidity\",\"heatIndex\",\"weather\"]"
   ]
  },
  {
   "cell_type": "code",
   "execution_count": 72,
   "id": "74ed8b83",
   "metadata": {},
   "outputs": [
    {
     "data": {
      "text/html": [
       "<div>\n",
       "<style scoped>\n",
       "    .dataframe tbody tr th:only-of-type {\n",
       "        vertical-align: middle;\n",
       "    }\n",
       "\n",
       "    .dataframe tbody tr th {\n",
       "        vertical-align: top;\n",
       "    }\n",
       "\n",
       "    .dataframe thead th {\n",
       "        text-align: right;\n",
       "    }\n",
       "</style>\n",
       "<table border=\"1\" class=\"dataframe\">\n",
       "  <thead>\n",
       "    <tr style=\"text-align: right;\">\n",
       "      <th></th>\n",
       "      <th>temperature</th>\n",
       "      <th>humidity</th>\n",
       "      <th>heatIndex</th>\n",
       "      <th>weather</th>\n",
       "    </tr>\n",
       "  </thead>\n",
       "  <tbody>\n",
       "    <tr>\n",
       "      <th>0</th>\n",
       "      <td>2</td>\n",
       "      <td>92</td>\n",
       "      <td>2</td>\n",
       "      <td>Clear</td>\n",
       "    </tr>\n",
       "    <tr>\n",
       "      <th>1</th>\n",
       "      <td>2</td>\n",
       "      <td>85</td>\n",
       "      <td>2</td>\n",
       "      <td>Clear</td>\n",
       "    </tr>\n",
       "    <tr>\n",
       "      <th>2</th>\n",
       "      <td>2</td>\n",
       "      <td>78</td>\n",
       "      <td>2</td>\n",
       "      <td>Clear</td>\n",
       "    </tr>\n",
       "    <tr>\n",
       "      <th>3</th>\n",
       "      <td>2</td>\n",
       "      <td>72</td>\n",
       "      <td>2</td>\n",
       "      <td>Clear</td>\n",
       "    </tr>\n",
       "    <tr>\n",
       "      <th>4</th>\n",
       "      <td>1</td>\n",
       "      <td>72</td>\n",
       "      <td>1</td>\n",
       "      <td>Clear</td>\n",
       "    </tr>\n",
       "  </tbody>\n",
       "</table>\n",
       "</div>"
      ],
      "text/plain": [
       "   temperature  humidity  heatIndex weather\n",
       "0            2        92          2   Clear\n",
       "1            2        85          2   Clear\n",
       "2            2        78          2   Clear\n",
       "3            2        72          2   Clear\n",
       "4            1        72          1   Clear"
      ]
     },
     "execution_count": 72,
     "metadata": {},
     "output_type": "execute_result"
    }
   ],
   "source": [
    "weather_data.head()"
   ]
  },
  {
   "cell_type": "code",
   "execution_count": 78,
   "id": "1ae4c26c",
   "metadata": {
    "scrolled": false
   },
   "outputs": [
    {
     "name": "stdout",
     "output_type": "stream",
     "text": [
      "<class 'pandas.core.frame.DataFrame'>\n",
      "RangeIndex: 216 entries, 0 to 215\n",
      "Data columns (total 4 columns):\n",
      " #   Column       Non-Null Count  Dtype \n",
      "---  ------       --------------  ----- \n",
      " 0   temperature  216 non-null    int64 \n",
      " 1   humidity     216 non-null    int64 \n",
      " 2   heatIndex    216 non-null    int64 \n",
      " 3   weather      216 non-null    object\n",
      "dtypes: int64(3), object(1)\n",
      "memory usage: 6.9+ KB\n"
     ]
    }
   ],
   "source": [
    "weather_data.info()"
   ]
  },
  {
   "cell_type": "code",
   "execution_count": 80,
   "id": "e2062994",
   "metadata": {},
   "outputs": [
    {
     "data": {
      "text/plain": [
       "temperature    0\n",
       "humidity       0\n",
       "heatIndex      0\n",
       "weather        0\n",
       "dtype: int64"
      ]
     },
     "execution_count": 80,
     "metadata": {},
     "output_type": "execute_result"
    }
   ],
   "source": [
    "weather_data.isna().sum()"
   ]
  },
  {
   "cell_type": "code",
   "execution_count": 73,
   "id": "4932807e",
   "metadata": {},
   "outputs": [],
   "source": [
    "# weather_data[\"temperature\"] = weather_data[\"temperature\"] *(9/5) + 32"
   ]
  },
  {
   "cell_type": "code",
   "execution_count": 74,
   "id": "30718261",
   "metadata": {},
   "outputs": [],
   "source": [
    "# weather_data[\"humidity\"] = weather_data[\"humidity\"] * 100"
   ]
  },
  {
   "cell_type": "code",
   "execution_count": 75,
   "id": "88b5020d",
   "metadata": {},
   "outputs": [],
   "source": [
    "# weather_data[\"heat_index\"] = \"\""
   ]
  },
  {
   "cell_type": "code",
   "execution_count": 76,
   "id": "a70d7e3e",
   "metadata": {},
   "outputs": [],
   "source": [
    "# for i in weather_data.index:\n",
    "#     temperature = weather_data[\"temperature\"][i]\n",
    "#     humidity = weather_data[\"humidity\"][i]\n",
    "#     weather_data[\"heat_index\"][i] = (-42.379) + (-2.04901523) * weather_data[\"temperature\"][i] + (-10.14333127) * humidity + (-0.22475541) * temperature * humidity  + (-6.83783) * (10**(-3)) * (temperature)**2 + (-5.481717) * 0.01 * (humidity**2)+ (-1.22874) * (0.001) * (temperature**2) * humidity + 8.5282 * (0.0001) * temperature * ((humidity)**2) + (-1.99) * (0.000001) * (temperature**2) * (humidity**2)"
   ]
  },
  {
   "cell_type": "code",
   "execution_count": 77,
   "id": "8524aa7d",
   "metadata": {},
   "outputs": [],
   "source": [
    "# weather_data "
   ]
  },
  {
   "cell_type": "code",
   "execution_count": 79,
   "id": "04fa99b5",
   "metadata": {},
   "outputs": [],
   "source": [
    "# weather_data[\"heat_index\"] = weather_data[\"heat_index\"].astype(float)"
   ]
  },
  {
   "cell_type": "code",
   "execution_count": 81,
   "id": "bb1b1a97",
   "metadata": {},
   "outputs": [
    {
     "data": {
      "text/plain": [
       "54"
      ]
     },
     "execution_count": 81,
     "metadata": {},
     "output_type": "execute_result"
    }
   ],
   "source": [
    "weather_data.duplicated().sum()"
   ]
  },
  {
   "cell_type": "code",
   "execution_count": 82,
   "id": "f87dc871",
   "metadata": {},
   "outputs": [
    {
     "data": {
      "text/plain": [
       "(162, 4)"
      ]
     },
     "execution_count": 82,
     "metadata": {},
     "output_type": "execute_result"
    }
   ],
   "source": [
    "weather_data.drop_duplicates(inplace=True)\n",
    "weather_data.shape"
   ]
  },
  {
   "cell_type": "code",
   "execution_count": 83,
   "id": "c81f39a3",
   "metadata": {},
   "outputs": [
    {
     "data": {
      "text/plain": [
       "array(['Clear', 'Sunny', 'Mist', 'Light drizzle', 'Light rain',\n",
       "       'Overcast', 'Cloudy', 'Partly cloudy', 'Patchy light drizzle',\n",
       "       'Fog', 'Moderate rain', 'Patchy rain possible'], dtype=object)"
      ]
     },
     "execution_count": 83,
     "metadata": {},
     "output_type": "execute_result"
    }
   ],
   "source": [
    "weather_data[\"weather\"].unique()"
   ]
  },
  {
   "cell_type": "code",
   "execution_count": 85,
   "id": "81c94f6e",
   "metadata": {},
   "outputs": [
    {
     "data": {
      "text/plain": [
       "<AxesSubplot:xlabel='weather'>"
      ]
     },
     "execution_count": 85,
     "metadata": {},
     "output_type": "execute_result"
    },
    {
     "data": {
      "image/png": "[encoded data removed]",
      "text/plain": [
       "<Figure size 432x288 with 1 Axes>"
      ]
     },
     "metadata": {
      "needs_background": "light"
     },
     "output_type": "display_data"
    }
   ],
   "source": [
    "weather_data[\"weather\"].value_counts().plot.bar()"
   ]
  },
  {
   "cell_type": "code",
   "execution_count": 84,
   "id": "45136b32",
   "metadata": {
    "scrolled": false
   },
   "outputs": [
    {
     "data": {
      "text/plain": [
       "weather\n",
       "Clear                   34\n",
       "Cloudy                  24\n",
       "Mist                    21\n",
       "Partly cloudy           19\n",
       "Sunny                   17\n",
       "Overcast                17\n",
       "Light drizzle           14\n",
       "Moderate rain            6\n",
       "Fog                      4\n",
       "Light rain               2\n",
       "Patchy light drizzle     2\n",
       "Patchy rain possible     2\n",
       "Name: count, dtype: int64"
      ]
     },
     "execution_count": 84,
     "metadata": {},
     "output_type": "execute_result"
    }
   ],
   "source": [
    "weather_data[\"weather\"].value_counts()"
   ]
  },
  {
   "cell_type": "code",
   "execution_count": 88,
   "id": "8cd050b2",
   "metadata": {},
   "outputs": [],
   "source": [
    "weather_update = {}\n",
    "count = 0\n",
    "for i in weather_data[\"weather\"].unique():\n",
    "    weather_update[i] = count\n",
    "    count = count + 1"
   ]
  },
  {
   "cell_type": "code",
   "execution_count": 89,
   "id": "8068d00e",
   "metadata": {},
   "outputs": [
    {
     "data": {
      "text/plain": [
       "{'Clear': 0,\n",
       " 'Sunny': 1,\n",
       " 'Mist': 2,\n",
       " 'Light drizzle': 3,\n",
       " 'Light rain': 4,\n",
       " 'Overcast': 5,\n",
       " 'Cloudy': 6,\n",
       " 'Partly cloudy': 7,\n",
       " 'Patchy light drizzle': 8,\n",
       " 'Fog': 9,\n",
       " 'Moderate rain': 10,\n",
       " 'Patchy rain possible': 11}"
      ]
     },
     "execution_count": 89,
     "metadata": {},
     "output_type": "execute_result"
    }
   ],
   "source": [
    "weather_update"
   ]
  },
  {
   "cell_type": "code",
   "execution_count": 90,
   "id": "7f00911f",
   "metadata": {},
   "outputs": [],
   "source": [
    "for i in weather_data.index:\n",
    "    weather_data[\"weather\"][i] = weather_update[weather_data[\"weather\"][i]]"
   ]
  },
  {
   "cell_type": "code",
   "execution_count": 91,
   "id": "6324ef97",
   "metadata": {},
   "outputs": [
    {
     "data": {
      "text/html": [
       "<div>\n",
       "<style scoped>\n",
       "    .dataframe tbody tr th:only-of-type {\n",
       "        vertical-align: middle;\n",
       "    }\n",
       "\n",
       "    .dataframe tbody tr th {\n",
       "        vertical-align: top;\n",
       "    }\n",
       "\n",
       "    .dataframe thead th {\n",
       "        text-align: right;\n",
       "    }\n",
       "</style>\n",
       "<table border=\"1\" class=\"dataframe\">\n",
       "  <thead>\n",
       "    <tr style=\"text-align: right;\">\n",
       "      <th></th>\n",
       "      <th>temperature</th>\n",
       "      <th>humidity</th>\n",
       "      <th>heatIndex</th>\n",
       "      <th>weather</th>\n",
       "    </tr>\n",
       "  </thead>\n",
       "  <tbody>\n",
       "    <tr>\n",
       "      <th>0</th>\n",
       "      <td>2</td>\n",
       "      <td>92</td>\n",
       "      <td>2</td>\n",
       "      <td>0</td>\n",
       "    </tr>\n",
       "    <tr>\n",
       "      <th>1</th>\n",
       "      <td>2</td>\n",
       "      <td>85</td>\n",
       "      <td>2</td>\n",
       "      <td>0</td>\n",
       "    </tr>\n",
       "    <tr>\n",
       "      <th>2</th>\n",
       "      <td>2</td>\n",
       "      <td>78</td>\n",
       "      <td>2</td>\n",
       "      <td>0</td>\n",
       "    </tr>\n",
       "    <tr>\n",
       "      <th>3</th>\n",
       "      <td>2</td>\n",
       "      <td>72</td>\n",
       "      <td>2</td>\n",
       "      <td>0</td>\n",
       "    </tr>\n",
       "    <tr>\n",
       "      <th>4</th>\n",
       "      <td>1</td>\n",
       "      <td>72</td>\n",
       "      <td>1</td>\n",
       "      <td>0</td>\n",
       "    </tr>\n",
       "    <tr>\n",
       "      <th>...</th>\n",
       "      <td>...</td>\n",
       "      <td>...</td>\n",
       "      <td>...</td>\n",
       "      <td>...</td>\n",
       "    </tr>\n",
       "    <tr>\n",
       "      <th>203</th>\n",
       "      <td>7</td>\n",
       "      <td>88</td>\n",
       "      <td>7</td>\n",
       "      <td>6</td>\n",
       "    </tr>\n",
       "    <tr>\n",
       "      <th>205</th>\n",
       "      <td>7</td>\n",
       "      <td>84</td>\n",
       "      <td>7</td>\n",
       "      <td>6</td>\n",
       "    </tr>\n",
       "    <tr>\n",
       "      <th>207</th>\n",
       "      <td>7</td>\n",
       "      <td>82</td>\n",
       "      <td>7</td>\n",
       "      <td>1</td>\n",
       "    </tr>\n",
       "    <tr>\n",
       "      <th>209</th>\n",
       "      <td>5</td>\n",
       "      <td>87</td>\n",
       "      <td>5</td>\n",
       "      <td>0</td>\n",
       "    </tr>\n",
       "    <tr>\n",
       "      <th>210</th>\n",
       "      <td>4</td>\n",
       "      <td>89</td>\n",
       "      <td>4</td>\n",
       "      <td>0</td>\n",
       "    </tr>\n",
       "  </tbody>\n",
       "</table>\n",
       "<p>162 rows × 4 columns</p>\n",
       "</div>"
      ],
      "text/plain": [
       "     temperature  humidity  heatIndex weather\n",
       "0              2        92          2       0\n",
       "1              2        85          2       0\n",
       "2              2        78          2       0\n",
       "3              2        72          2       0\n",
       "4              1        72          1       0\n",
       "..           ...       ...        ...     ...\n",
       "203            7        88          7       6\n",
       "205            7        84          7       6\n",
       "207            7        82          7       1\n",
       "209            5        87          5       0\n",
       "210            4        89          4       0\n",
       "\n",
       "[162 rows x 4 columns]"
      ]
     },
     "execution_count": 91,
     "metadata": {},
     "output_type": "execute_result"
    }
   ],
   "source": [
    "weather_data.head()"
   ]
  },
  {
   "cell_type": "code",
   "execution_count": 92,
   "id": "cdb52128",
   "metadata": {},
   "outputs": [],
   "source": [
    "# binary_weather = pd.get_dummies(weather_data[\"weather\"],dtype=int)"
   ]
  },
  {
   "cell_type": "code",
   "execution_count": 93,
   "id": "05c50617",
   "metadata": {},
   "outputs": [],
   "source": [
    "# binary_weather"
   ]
  },
  {
   "cell_type": "code",
   "execution_count": 94,
   "id": "b2e5074d",
   "metadata": {},
   "outputs": [],
   "source": [
    "# weather_data.drop(['weather'],axis=1,inplace=True)"
   ]
  },
  {
   "cell_type": "code",
   "execution_count": 95,
   "id": "68934f31",
   "metadata": {},
   "outputs": [],
   "source": [
    "# df = weather_data.merge(binary_weather,left_on=weather_data.index,right_on=binary_weather.index)"
   ]
  },
  {
   "cell_type": "code",
   "execution_count": 96,
   "id": "ef14c5b6",
   "metadata": {},
   "outputs": [],
   "source": [
    "# df.drop(['key_0'],axis = 1,inplace = True)"
   ]
  },
  {
   "cell_type": "code",
   "execution_count": 97,
   "id": "d9a59c0e",
   "metadata": {},
   "outputs": [],
   "source": [
    "# df"
   ]
  },
  {
   "cell_type": "code",
   "execution_count": 127,
   "id": "9b875f08",
   "metadata": {},
   "outputs": [
    {
     "name": "stdout",
     "output_type": "stream",
     "text": [
      "<class 'pandas.core.frame.DataFrame'>\n",
      "Index: 162 entries, 0 to 210\n",
      "Data columns (total 4 columns):\n",
      " #   Column       Non-Null Count  Dtype \n",
      "---  ------       --------------  ----- \n",
      " 0   temperature  162 non-null    int64 \n",
      " 1   humidity     162 non-null    int64 \n",
      " 2   heatIndex    162 non-null    int64 \n",
      " 3   weather      162 non-null    object\n",
      "dtypes: int64(3), object(1)\n",
      "memory usage: 10.4+ KB\n"
     ]
    }
   ],
   "source": [
    "weather_data.info()"
   ]
  },
  {
   "cell_type": "code",
   "execution_count": 129,
   "id": "cf13efc7",
   "metadata": {},
   "outputs": [
    {
     "data": {
      "text/plain": [
       "<AxesSubplot:>"
      ]
     },
     "execution_count": 129,
     "metadata": {},
     "output_type": "execute_result"
    },
    {
     "data": {
      "image/png": "[encoded data removed]",
      "text/plain": [
       "<Figure size 432x288 with 2 Axes>"
      ]
     },
     "metadata": {
      "needs_background": "light"
     },
     "output_type": "display_data"
    }
   ],
   "source": [
    "sns.heatmap(weather_data.corr())"
   ]
  },
  {
   "cell_type": "markdown",
   "id": "6ff3014e",
   "metadata": {},
   "source": [
    "## Training Model"
   ]
  },
  {
   "cell_type": "code",
   "execution_count": 224,
   "id": "30a77c7b",
   "metadata": {},
   "outputs": [],
   "source": [
    "X = weather_data.loc[:,[\"temperature\",\"humidity\",\"heatIndex\"]]"
   ]
  },
  {
   "cell_type": "code",
   "execution_count": 225,
   "id": "ab70986d",
   "metadata": {},
   "outputs": [
    {
     "data": {
      "text/html": [
       "<div>\n",
       "<style scoped>\n",
       "    .dataframe tbody tr th:only-of-type {\n",
       "        vertical-align: middle;\n",
       "    }\n",
       "\n",
       "    .dataframe tbody tr th {\n",
       "        vertical-align: top;\n",
       "    }\n",
       "\n",
       "    .dataframe thead th {\n",
       "        text-align: right;\n",
       "    }\n",
       "</style>\n",
       "<table border=\"1\" class=\"dataframe\">\n",
       "  <thead>\n",
       "    <tr style=\"text-align: right;\">\n",
       "      <th></th>\n",
       "      <th>temperature</th>\n",
       "      <th>humidity</th>\n",
       "      <th>heatIndex</th>\n",
       "    </tr>\n",
       "  </thead>\n",
       "  <tbody>\n",
       "    <tr>\n",
       "      <th>0</th>\n",
       "      <td>2</td>\n",
       "      <td>92</td>\n",
       "      <td>2</td>\n",
       "    </tr>\n",
       "    <tr>\n",
       "      <th>1</th>\n",
       "      <td>2</td>\n",
       "      <td>85</td>\n",
       "      <td>2</td>\n",
       "    </tr>\n",
       "    <tr>\n",
       "      <th>2</th>\n",
       "      <td>2</td>\n",
       "      <td>78</td>\n",
       "      <td>2</td>\n",
       "    </tr>\n",
       "    <tr>\n",
       "      <th>3</th>\n",
       "      <td>2</td>\n",
       "      <td>72</td>\n",
       "      <td>2</td>\n",
       "    </tr>\n",
       "    <tr>\n",
       "      <th>4</th>\n",
       "      <td>1</td>\n",
       "      <td>72</td>\n",
       "      <td>1</td>\n",
       "    </tr>\n",
       "    <tr>\n",
       "      <th>...</th>\n",
       "      <td>...</td>\n",
       "      <td>...</td>\n",
       "      <td>...</td>\n",
       "    </tr>\n",
       "    <tr>\n",
       "      <th>203</th>\n",
       "      <td>7</td>\n",
       "      <td>88</td>\n",
       "      <td>7</td>\n",
       "    </tr>\n",
       "    <tr>\n",
       "      <th>205</th>\n",
       "      <td>7</td>\n",
       "      <td>84</td>\n",
       "      <td>7</td>\n",
       "    </tr>\n",
       "    <tr>\n",
       "      <th>207</th>\n",
       "      <td>7</td>\n",
       "      <td>82</td>\n",
       "      <td>7</td>\n",
       "    </tr>\n",
       "    <tr>\n",
       "      <th>209</th>\n",
       "      <td>5</td>\n",
       "      <td>87</td>\n",
       "      <td>5</td>\n",
       "    </tr>\n",
       "    <tr>\n",
       "      <th>210</th>\n",
       "      <td>4</td>\n",
       "      <td>89</td>\n",
       "      <td>4</td>\n",
       "    </tr>\n",
       "  </tbody>\n",
       "</table>\n",
       "<p>162 rows × 3 columns</p>\n",
       "</div>"
      ],
      "text/plain": [
       "     temperature  humidity  heatIndex\n",
       "0              2        92          2\n",
       "1              2        85          2\n",
       "2              2        78          2\n",
       "3              2        72          2\n",
       "4              1        72          1\n",
       "..           ...       ...        ...\n",
       "203            7        88          7\n",
       "205            7        84          7\n",
       "207            7        82          7\n",
       "209            5        87          5\n",
       "210            4        89          4\n",
       "\n",
       "[162 rows x 3 columns]"
      ]
     },
     "execution_count": 225,
     "metadata": {},
     "output_type": "execute_result"
    }
   ],
   "source": [
    "X"
   ]
  },
  {
   "cell_type": "code",
   "execution_count": 226,
   "id": "fadfce02",
   "metadata": {},
   "outputs": [],
   "source": [
    "y = weather_data.iloc[:,3].astype(int)"
   ]
  },
  {
   "cell_type": "code",
   "execution_count": 227,
   "id": "49a2040f",
   "metadata": {},
   "outputs": [
    {
     "data": {
      "text/plain": [
       "0      0\n",
       "1      0\n",
       "2      0\n",
       "3      0\n",
       "4      0\n",
       "      ..\n",
       "203    6\n",
       "205    6\n",
       "207    1\n",
       "209    0\n",
       "210    0\n",
       "Name: weather, Length: 162, dtype: int32"
      ]
     },
     "execution_count": 227,
     "metadata": {},
     "output_type": "execute_result"
    }
   ],
   "source": [
    "y"
   ]
  },
  {
   "cell_type": "code",
   "execution_count": 228,
   "id": "71e8c44e",
   "metadata": {},
   "outputs": [],
   "source": [
    "X_train, X_test, y_train, y_test = train_test_split(X, y, train_size=0.7, random_state=42)"
   ]
  },
  {
   "cell_type": "code",
   "execution_count": 229,
   "id": "324a1491",
   "metadata": {},
   "outputs": [
    {
     "data": {
      "text/plain": [
       "[[9, 88, 9],\n",
       " [4, 87, 4],\n",
       " [7, 83, 7],\n",
       " [5, 96, 5],\n",
       " [4, 79, 5],\n",
       " [1, 74, 1],\n",
       " [13, 87, 11],\n",
       " [-1, 93, -1],\n",
       " [5, 81, 5],\n",
       " [3, 91, 3],\n",
       " [10, 82, 11],\n",
       " [1, 72, 1],\n",
       " [0, 93, 0],\n",
       " [13, 81, 13],\n",
       " [2, 93, 2],\n",
       " [6, 88, 6],\n",
       " [8, 90, 8],\n",
       " [6, 84, 6],\n",
       " [6, 91, 6],\n",
       " [4, 84, 4],\n",
       " [2, 92, 2],\n",
       " [3, 91, 3],\n",
       " [5, 85, 5],\n",
       " [1, 97, 1],\n",
       " [7, 95, 7],\n",
       " [4, 83, 5],\n",
       " [13, 87, 12],\n",
       " [10, 80, 11],\n",
       " [5, 94, 5],\n",
       " [13, 87, 10],\n",
       " [13, 89, 11],\n",
       " [3, 90, 3],\n",
       " [-1, 90, -1],\n",
       " [10, 78, 12],\n",
       " [0, 96, 0],\n",
       " [0, 91, 0],\n",
       " [7, 88, 7],\n",
       " [0, 94, 0],\n",
       " [5, 97, 5],\n",
       " [4, 84, 4],\n",
       " [1, 94, 1],\n",
       " [5, 98, 5],\n",
       " [13, 80, 13],\n",
       " [5, 86, 5],\n",
       " [3, 91, 3],\n",
       " [3, 89, 3],\n",
       " [1, 95, 1],\n",
       " [5, 87, 5],\n",
       " [3, 95, 3],\n",
       " [5, 93, 5],\n",
       " [8, 84, 8],\n",
       " [1, 73, 1],\n",
       " [3, 89, 3],\n",
       " [4, 86, 4],\n",
       " [3, 95, 3],\n",
       " [6, 91, 6],\n",
       " [12, 83, 13],\n",
       " [-1, 89, 0],\n",
       " [-1, 92, -1],\n",
       " [12, 82, 13],\n",
       " [5, 96, 5],\n",
       " [3, 82, 3],\n",
       " [7, 95, 7],\n",
       " [8, 95, 8],\n",
       " [5, 80, 5],\n",
       " [5, 86, 5],\n",
       " [1, 97, 1],\n",
       " [1, 82, 2],\n",
       " [4, 91, 4],\n",
       " [3, 94, 3],\n",
       " [3, 94, 4],\n",
       " [3, 86, 3],\n",
       " [4, 85, 4],\n",
       " [6, 90, 6],\n",
       " [2, 94, 2],\n",
       " [1, 92, 1],\n",
       " [2, 72, 2],\n",
       " [3, 96, 3],\n",
       " [10, 80, 12],\n",
       " [6, 97, 6],\n",
       " [5, 83, 5],\n",
       " [0, 92, 0],\n",
       " [3, 94, 3],\n",
       " [1, 96, 1],\n",
       " [8, 85, 8],\n",
       " [6, 89, 6],\n",
       " [7, 86, 7],\n",
       " [7, 82, 7],\n",
       " [2, 93, 2],\n",
       " [4, 97, 4],\n",
       " [4, 92, 5],\n",
       " [13, 90, 11],\n",
       " [4, 95, 4],\n",
       " [6, 90, 6],\n",
       " [2, 91, 2],\n",
       " [11, 82, 12],\n",
       " [4, 95, 4],\n",
       " [2, 85, 2],\n",
       " [8, 83, 8],\n",
       " [1, 90, 1],\n",
       " [9, 88, 9],\n",
       " [7, 89, 7],\n",
       " [3, 88, 3],\n",
       " [4, 87, 5],\n",
       " [6, 98, 6],\n",
       " [3, 87, 3],\n",
       " [4, 89, 4],\n",
       " [2, 96, 2],\n",
       " [7, 96, 7],\n",
       " [7, 91, 7],\n",
       " [6, 94, 6],\n",
       " [0, 97, 0],\n",
       " [9, 89, 9]]"
      ]
     },
     "execution_count": 229,
     "metadata": {},
     "output_type": "execute_result"
    }
   ],
   "source": [
    "X_train.values.tolist()"
   ]
  },
  {
   "cell_type": "code",
   "execution_count": 230,
   "id": "b76388a3",
   "metadata": {},
   "outputs": [
    {
     "data": {
      "text/plain": [
       "[7,\n",
       " 0,\n",
       " 1,\n",
       " 2,\n",
       " 3,\n",
       " 0,\n",
       " 5,\n",
       " 0,\n",
       " 1,\n",
       " 2,\n",
       " 7,\n",
       " 0,\n",
       " 0,\n",
       " 5,\n",
       " 2,\n",
       " 10,\n",
       " 7,\n",
       " 1,\n",
       " 5,\n",
       " 11,\n",
       " 0,\n",
       " 1,\n",
       " 3,\n",
       " 2,\n",
       " 7,\n",
       " 3,\n",
       " 5,\n",
       " 6,\n",
       " 6,\n",
       " 3,\n",
       " 4,\n",
       " 0,\n",
       " 0,\n",
       " 6,\n",
       " 0,\n",
       " 0,\n",
       " 6,\n",
       " 0,\n",
       " 7,\n",
       " 1,\n",
       " 2,\n",
       " 9,\n",
       " 6,\n",
       " 3,\n",
       " 0,\n",
       " 1,\n",
       " 2,\n",
       " 0,\n",
       " 5,\n",
       " 6,\n",
       " 6,\n",
       " 0,\n",
       " 0,\n",
       " 1,\n",
       " 7,\n",
       " 7,\n",
       " 5,\n",
       " 0,\n",
       " 0,\n",
       " 6,\n",
       " 7,\n",
       " 0,\n",
       " 8,\n",
       " 2,\n",
       " 1,\n",
       " 10,\n",
       " 7,\n",
       " 7,\n",
       " 6,\n",
       " 6,\n",
       " 3,\n",
       " 1,\n",
       " 11,\n",
       " 2,\n",
       " 0,\n",
       " 1,\n",
       " 0,\n",
       " 2,\n",
       " 6,\n",
       " 9,\n",
       " 1,\n",
       " 0,\n",
       " 7,\n",
       " 2,\n",
       " 6,\n",
       " 10,\n",
       " 6,\n",
       " 1,\n",
       " 0,\n",
       " 7,\n",
       " 3,\n",
       " 3,\n",
       " 2,\n",
       " 6,\n",
       " 0,\n",
       " 5,\n",
       " 5,\n",
       " 0,\n",
       " 6,\n",
       " 0,\n",
       " 3,\n",
       " 5,\n",
       " 0,\n",
       " 3,\n",
       " 9,\n",
       " 1,\n",
       " 0,\n",
       " 2,\n",
       " 2,\n",
       " 10,\n",
       " 2,\n",
       " 7,\n",
       " 6]"
      ]
     },
     "execution_count": 230,
     "metadata": {},
     "output_type": "execute_result"
    }
   ],
   "source": [
    "y_train.values.tolist()"
   ]
  },
  {
   "cell_type": "code",
   "execution_count": 231,
   "id": "1aab2b6e",
   "metadata": {},
   "outputs": [],
   "source": [
    "## Standardize the dataset\n",
    "# from sklearn.preprocessing import StandardScaler\n",
    "# scaler = StandardScaler()"
   ]
  },
  {
   "cell_type": "code",
   "execution_count": 232,
   "id": "6b33f7c4",
   "metadata": {},
   "outputs": [],
   "source": [
    "# X_train = scaler.fit_transform(X_train)\n",
    "# X_test = scaler.transform(X_test)"
   ]
  },
  {
   "cell_type": "code",
   "execution_count": 233,
   "id": "2f23bc68",
   "metadata": {},
   "outputs": [],
   "source": [
    "# X_train"
   ]
  },
  {
   "cell_type": "code",
   "execution_count": 234,
   "id": "8bd71281",
   "metadata": {},
   "outputs": [],
   "source": [
    "# X_test"
   ]
  },
  {
   "cell_type": "code",
   "execution_count": 235,
   "id": "163a7a17",
   "metadata": {},
   "outputs": [
    {
     "data": {
      "text/plain": [
       "DecisionTreeClassifier(random_state=0)"
      ]
     },
     "execution_count": 235,
     "metadata": {},
     "output_type": "execute_result"
    }
   ],
   "source": [
    "weather_classifier = DecisionTreeClassifier(random_state = 0)\n",
    "weather_classifier.fit(X_train, y_train)"
   ]
  },
  {
   "cell_type": "code",
   "execution_count": 236,
   "id": "d2195110",
   "metadata": {},
   "outputs": [],
   "source": [
    "# from everywhereml.sklearn.ensemble import RandomForestClassifier"
   ]
  },
  {
   "cell_type": "code",
   "execution_count": 237,
   "id": "d984b8c5",
   "metadata": {},
   "outputs": [],
   "source": [
    "# weather_classifier = RandomForestClassifier()\n",
    "# weather_classifier.fit(X_train,y_train)"
   ]
  },
  {
   "cell_type": "code",
   "execution_count": 238,
   "id": "34c59195",
   "metadata": {},
   "outputs": [
    {
     "data": {
      "text/plain": [
       "sklearn.tree._classes.DecisionTreeClassifier"
      ]
     },
     "execution_count": 238,
     "metadata": {},
     "output_type": "execute_result"
    }
   ],
   "source": [
    "type(weather_classifier)"
   ]
  },
  {
   "cell_type": "code",
   "execution_count": 239,
   "id": "7fcf3f22",
   "metadata": {
    "scrolled": true
   },
   "outputs": [],
   "source": [
    "y_pred = pd.DataFrame(weather_classifier.predict(X_test),dtype = int,index = y_test.index, columns = [\"weather\"])"
   ]
  },
  {
   "cell_type": "code",
   "execution_count": 240,
   "id": "9b97405b",
   "metadata": {},
   "outputs": [],
   "source": [
    "y_pred =np.array(y_pred[\"weather\"],dtype = int)"
   ]
  },
  {
   "cell_type": "code",
   "execution_count": 241,
   "id": "e50a56d4",
   "metadata": {},
   "outputs": [
    {
     "data": {
      "text/plain": [
       "numpy.ndarray"
      ]
     },
     "execution_count": 241,
     "metadata": {},
     "output_type": "execute_result"
    }
   ],
   "source": [
    "type(y_pred)"
   ]
  },
  {
   "cell_type": "code",
   "execution_count": 242,
   "id": "c716e005",
   "metadata": {},
   "outputs": [
    {
     "data": {
      "text/plain": [
       "array([ 1,  0,  0,  5,  0,  5,  7,  6,  7,  0,  2,  0,  7, 10,  5,  5,  3,\n",
       "        3, 10,  2,  9,  2,  6,  3,  5,  2, 10,  5,  0,  6,  1,  0,  0,  3,\n",
       "        0,  1,  7,  2,  7,  2,  5,  0,  0, 10,  0,  5,  0,  4,  0])"
      ]
     },
     "execution_count": 242,
     "metadata": {},
     "output_type": "execute_result"
    }
   ],
   "source": [
    "y_pred"
   ]
  },
  {
   "cell_type": "code",
   "execution_count": 243,
   "id": "51683aec",
   "metadata": {},
   "outputs": [],
   "source": [
    "y_test = np.array(y_test,dtype = int)"
   ]
  },
  {
   "cell_type": "code",
   "execution_count": 244,
   "id": "453127a2",
   "metadata": {},
   "outputs": [
    {
     "data": {
      "text/plain": [
       "numpy.ndarray"
      ]
     },
     "execution_count": 244,
     "metadata": {},
     "output_type": "execute_result"
    }
   ],
   "source": [
    "type(y_test)"
   ]
  },
  {
   "cell_type": "code",
   "execution_count": 245,
   "id": "29589559",
   "metadata": {
    "scrolled": true
   },
   "outputs": [
    {
     "data": {
      "text/plain": [
       "array([ 6, 10,  0,  6,  0,  5,  6,  6,  6,  6,  2,  3,  2,  7,  4,  5,  6,\n",
       "        3,  5,  2,  9,  2,  1,  1,  5,  7,  5,  2,  0, 10,  0,  0,  2,  5,\n",
       "        0,  1,  7,  8,  2,  7,  3,  1,  7,  5,  0,  5,  7,  3,  6])"
      ]
     },
     "execution_count": 245,
     "metadata": {},
     "output_type": "execute_result"
    }
   ],
   "source": [
    "y_test"
   ]
  },
  {
   "cell_type": "code",
   "execution_count": 246,
   "id": "2913cab6",
   "metadata": {},
   "outputs": [
    {
     "data": {
      "text/plain": [
       "0.3673469387755102"
      ]
     },
     "execution_count": 246,
     "metadata": {},
     "output_type": "execute_result"
    }
   ],
   "source": [
    "# Measure Accuracy\n",
    "metrics.accuracy_score(y_test,y_pred)"
   ]
  },
  {
   "cell_type": "code",
   "execution_count": 247,
   "id": "d2ca954b",
   "metadata": {},
   "outputs": [
    {
     "name": "stdout",
     "output_type": "stream",
     "text": [
      "              precision    recall  f1-score   support\n",
      "\n",
      "           0       0.43      0.86      0.57         7\n",
      "           1       0.33      0.25      0.29         4\n",
      "           2       0.50      0.43      0.46         7\n",
      "           3       0.25      0.25      0.25         4\n",
      "           4       0.00      0.00      0.00         1\n",
      "           5       0.50      0.50      0.50         8\n",
      "           6       0.33      0.12      0.18         8\n",
      "           7       0.20      0.17      0.18         6\n",
      "           8       0.00      0.00      0.00         1\n",
      "           9       1.00      1.00      1.00         1\n",
      "          10       0.00      0.00      0.00         2\n",
      "\n",
      "    accuracy                           0.37        49\n",
      "   macro avg       0.32      0.33      0.31        49\n",
      "weighted avg       0.36      0.37      0.35        49\n",
      "\n"
     ]
    }
   ],
   "source": [
    "print(metrics.classification_report(y_test, y_pred))"
   ]
  },
  {
   "cell_type": "code",
   "execution_count": 248,
   "id": "97fc23d2",
   "metadata": {},
   "outputs": [],
   "source": [
    "# weather_classifier.to_arduino(instance_name = \"weatherClassifier\")"
   ]
  },
  {
   "cell_type": "code",
   "execution_count": 249,
   "id": "cf67dd0b",
   "metadata": {},
   "outputs": [
    {
     "name": "stdout",
     "output_type": "stream",
     "text": [
      "#pragma once\n",
      "#include <cstdarg>\n",
      "namespace Eloquent {\n",
      "    namespace ML {\n",
      "        namespace Port {\n",
      "            class DecisionTree {\n",
      "                public:\n",
      "                    /**\n",
      "                    * Predict class for features vector\n",
      "                    */\n",
      "                    int predict(float *x) {\n",
      "                        if (x[2] <= 3.5) {\n",
      "                            if (x[1] <= 93.5) {\n",
      "                                if (x[0] <= 2.5) {\n",
      "                                    if (x[2] <= 1.5) {\n",
      "                                        if (x[0] <= 0.5) {\n",
      "                                            return 0;\n",
      "                                        }\n",
      "\n",
      "                                        else {\n",
      "                                            if (x[1] <= 91.0) {\n",
      "                                                return 0;\n",
      "                                            }\n",
      "\n",
      "                                            else {\n",
      "                                                return 1;\n",
      "                                            }\n",
      "                                        }\n",
      "                                    }\n",
      "\n",
      "                                    else {\n",
      "                                        if (x[0] <= 1.5) {\n",
      "                                            return 7;\n",
      "                                        }\n",
      "\n",
      "                                        else {\n",
      "                                            if (x[1] <= 92.5) {\n",
      "                                                return 0;\n",
      "                                            }\n",
      "\n",
      "                                            else {\n",
      "                                                return 0;\n",
      "                                            }\n",
      "                                        }\n",
      "                                    }\n",
      "                                }\n",
      "\n",
      "                                else {\n",
      "                                    if (x[1] <= 84.0) {\n",
      "                                        return 0;\n",
      "                                    }\n",
      "\n",
      "                                    else {\n",
      "                                        if (x[1] <= 87.5) {\n",
      "                                            return 1;\n",
      "                                        }\n",
      "\n",
      "                                        else {\n",
      "                                            if (x[1] <= 90.5) {\n",
      "                                                if (x[1] <= 88.5) {\n",
      "                                                    return 0;\n",
      "                                                }\n",
      "\n",
      "                                                else {\n",
      "                                                    if (x[1] <= 89.5) {\n",
      "                                                        return 0;\n",
      "                                                    }\n",
      "\n",
      "                                                    else {\n",
      "                                                        return 0;\n",
      "                                                    }\n",
      "                                                }\n",
      "                                            }\n",
      "\n",
      "                                            else {\n",
      "                                                return 0;\n",
      "                                            }\n",
      "                                        }\n",
      "                                    }\n",
      "                                }\n",
      "                            }\n",
      "\n",
      "                            else {\n",
      "                                if (x[2] <= 0.5) {\n",
      "                                    if (x[1] <= 96.5) {\n",
      "                                        return 0;\n",
      "                                    }\n",
      "\n",
      "                                    else {\n",
      "                                        return 7;\n",
      "                                    }\n",
      "                                }\n",
      "\n",
      "                                else {\n",
      "                                    if (x[2] <= 2.5) {\n",
      "                                        if (x[1] <= 94.5) {\n",
      "                                            if (x[2] <= 1.5) {\n",
      "                                                return 2;\n",
      "                                            }\n",
      "\n",
      "                                            else {\n",
      "                                                return 0;\n",
      "                                            }\n",
      "                                        }\n",
      "\n",
      "                                        else {\n",
      "                                            if (x[1] <= 96.5) {\n",
      "                                                return 2;\n",
      "                                            }\n",
      "\n",
      "                                            else {\n",
      "                                                return 2;\n",
      "                                            }\n",
      "                                        }\n",
      "                                    }\n",
      "\n",
      "                                    else {\n",
      "                                        if (x[1] <= 95.5) {\n",
      "                                            if (x[1] <= 94.5) {\n",
      "                                                return 6;\n",
      "                                            }\n",
      "\n",
      "                                            else {\n",
      "                                                return 5;\n",
      "                                            }\n",
      "                                        }\n",
      "\n",
      "                                        else {\n",
      "                                            return 2;\n",
      "                                        }\n",
      "                                    }\n",
      "                                }\n",
      "                            }\n",
      "                        }\n",
      "\n",
      "                        else {\n",
      "                            if (x[1] <= 94.5) {\n",
      "                                if (x[0] <= 5.5) {\n",
      "                                    if (x[1] <= 86.5) {\n",
      "                                        if (x[2] <= 4.5) {\n",
      "                                            if (x[1] <= 85.5) {\n",
      "                                                if (x[1] <= 84.5) {\n",
      "                                                    return 1;\n",
      "                                                }\n",
      "\n",
      "                                                else {\n",
      "                                                    return 11;\n",
      "                                                }\n",
      "                                            }\n",
      "\n",
      "                                            else {\n",
      "                                                return 1;\n",
      "                                            }\n",
      "                                        }\n",
      "\n",
      "                                        else {\n",
      "                                            if (x[0] <= 4.5) {\n",
      "                                                return 3;\n",
      "                                            }\n",
      "\n",
      "                                            else {\n",
      "                                                if (x[1] <= 84.0) {\n",
      "                                                    return 1;\n",
      "                                                }\n",
      "\n",
      "                                                else {\n",
      "                                                    if (x[1] <= 85.5) {\n",
      "                                                        return 3;\n",
      "                                                    }\n",
      "\n",
      "                                                    else {\n",
      "                                                        return 3;\n",
      "                                                    }\n",
      "                                                }\n",
      "                                            }\n",
      "                                        }\n",
      "                                    }\n",
      "\n",
      "                                    else {\n",
      "                                        if (x[1] <= 90.0) {\n",
      "                                            if (x[2] <= 4.5) {\n",
      "                                                return 0;\n",
      "                                            }\n",
      "\n",
      "                                            else {\n",
      "                                                if (x[0] <= 4.5) {\n",
      "                                                    return 3;\n",
      "                                                }\n",
      "\n",
      "                                                else {\n",
      "                                                    return 0;\n",
      "                                                }\n",
      "                                            }\n",
      "                                        }\n",
      "\n",
      "                                        else {\n",
      "                                            if (x[0] <= 4.5) {\n",
      "                                                if (x[1] <= 91.5) {\n",
      "                                                    return 6;\n",
      "                                                }\n",
      "\n",
      "                                                else {\n",
      "                                                    return 3;\n",
      "                                                }\n",
      "                                            }\n",
      "\n",
      "                                            else {\n",
      "                                                return 6;\n",
      "                                            }\n",
      "                                        }\n",
      "                                    }\n",
      "                                }\n",
      "\n",
      "                                else {\n",
      "                                    if (x[1] <= 86.5) {\n",
      "                                        if (x[2] <= 7.5) {\n",
      "                                            if (x[1] <= 85.0) {\n",
      "                                                return 1;\n",
      "                                            }\n",
      "\n",
      "                                            else {\n",
      "                                                return 6;\n",
      "                                            }\n",
      "                                        }\n",
      "\n",
      "                                        else {\n",
      "                                            if (x[0] <= 10.5) {\n",
      "                                                if (x[0] <= 9.0) {\n",
      "                                                    return 6;\n",
      "                                                }\n",
      "\n",
      "                                                else {\n",
      "                                                    if (x[1] <= 81.0) {\n",
      "                                                        return 6;\n",
      "                                                    }\n",
      "\n",
      "                                                    else {\n",
      "                                                        return 7;\n",
      "                                                    }\n",
      "                                                }\n",
      "                                            }\n",
      "\n",
      "                                            else {\n",
      "                                                if (x[1] <= 80.5) {\n",
      "                                                    return 6;\n",
      "                                                }\n",
      "\n",
      "                                                else {\n",
      "                                                    if (x[0] <= 11.5) {\n",
      "                                                        return 5;\n",
      "                                                    }\n",
      "\n",
      "                                                    else {\n",
      "                                                        if (x[0] <= 12.5) {\n",
      "                                                            if (x[1] <= 82.5) {\n",
      "                                                                return 6;\n",
      "                                                            }\n",
      "\n",
      "                                                            else {\n",
      "                                                                return 5;\n",
      "                                                            }\n",
      "                                                        }\n",
      "\n",
      "                                                        else {\n",
      "                                                            return 5;\n",
      "                                                        }\n",
      "                                                    }\n",
      "                                                }\n",
      "                                            }\n",
      "                                        }\n",
      "                                    }\n",
      "\n",
      "                                    else {\n",
      "                                        if (x[2] <= 9.5) {\n",
      "                                            if (x[2] <= 7.5) {\n",
      "                                                if (x[1] <= 92.5) {\n",
      "                                                    if (x[1] <= 90.5) {\n",
      "                                                        if (x[0] <= 6.5) {\n",
      "                                                            if (x[1] <= 89.5) {\n",
      "                                                                return 10;\n",
      "                                                            }\n",
      "\n",
      "                                                            else {\n",
      "                                                                return 2;\n",
      "                                                            }\n",
      "                                                        }\n",
      "\n",
      "                                                        else {\n",
      "                                                            if (x[1] <= 88.5) {\n",
      "                                                                return 6;\n",
      "                                                            }\n",
      "\n",
      "                                                            else {\n",
      "                                                                return 5;\n",
      "                                                            }\n",
      "                                                        }\n",
      "                                                    }\n",
      "\n",
      "                                                    else {\n",
      "                                                        if (x[2] <= 6.5) {\n",
      "                                                            return 5;\n",
      "                                                        }\n",
      "\n",
      "                                                        else {\n",
      "                                                            return 10;\n",
      "                                                        }\n",
      "                                                    }\n",
      "                                                }\n",
      "\n",
      "                                                else {\n",
      "                                                    return 2;\n",
      "                                                }\n",
      "                                            }\n",
      "\n",
      "                                            else {\n",
      "                                                if (x[1] <= 88.5) {\n",
      "                                                    return 3;\n",
      "                                                }\n",
      "\n",
      "                                                else {\n",
      "                                                    if (x[1] <= 89.5) {\n",
      "                                                        return 6;\n",
      "                                                    }\n",
      "\n",
      "                                                    else {\n",
      "                                                        return 7;\n",
      "                                                    }\n",
      "                                                }\n",
      "                                            }\n",
      "                                        }\n",
      "\n",
      "                                        else {\n",
      "                                            if (x[1] <= 88.0) {\n",
      "                                                if (x[2] <= 10.5) {\n",
      "                                                    return 3;\n",
      "                                                }\n",
      "\n",
      "                                                else {\n",
      "                                                    return 5;\n",
      "                                                }\n",
      "                                            }\n",
      "\n",
      "                                            else {\n",
      "                                                if (x[1] <= 89.5) {\n",
      "                                                    return 4;\n",
      "                                                }\n",
      "\n",
      "                                                else {\n",
      "                                                    return 3;\n",
      "                                                }\n",
      "                                            }\n",
      "                                        }\n",
      "                                    }\n",
      "                                }\n",
      "                            }\n",
      "\n",
      "                            else {\n",
      "                                if (x[1] <= 96.5) {\n",
      "                                    if (x[2] <= 4.5) {\n",
      "                                        return 2;\n",
      "                                    }\n",
      "\n",
      "                                    else {\n",
      "                                        if (x[2] <= 7.5) {\n",
      "                                            if (x[1] <= 95.5) {\n",
      "                                                return 7;\n",
      "                                            }\n",
      "\n",
      "                                            else {\n",
      "                                                if (x[2] <= 6.0) {\n",
      "                                                    return 2;\n",
      "                                                }\n",
      "\n",
      "                                                else {\n",
      "                                                    return 2;\n",
      "                                                }\n",
      "                                            }\n",
      "                                        }\n",
      "\n",
      "                                        else {\n",
      "                                            return 2;\n",
      "                                        }\n",
      "                                    }\n",
      "                                }\n",
      "\n",
      "                                else {\n",
      "                                    if (x[1] <= 97.5) {\n",
      "                                        if (x[2] <= 5.5) {\n",
      "                                            return 7;\n",
      "                                        }\n",
      "\n",
      "                                        else {\n",
      "                                            return 9;\n",
      "                                        }\n",
      "                                    }\n",
      "\n",
      "                                    else {\n",
      "                                        return 9;\n",
      "                                    }\n",
      "                                }\n",
      "                            }\n",
      "                        }\n",
      "                    }\n",
      "\n",
      "                protected:\n",
      "                };\n",
      "            }\n",
      "        }\n",
      "    }\n"
     ]
    }
   ],
   "source": [
    "print(port(weather_classifier))"
   ]
  },
  {
   "cell_type": "code",
   "execution_count": 250,
   "id": "fb2c30e9",
   "metadata": {
    "scrolled": false
   },
   "outputs": [
    {
     "data": {
      "text/plain": [
       "array([6])"
      ]
     },
     "execution_count": 250,
     "metadata": {},
     "output_type": "execute_result"
    }
   ],
   "source": [
    "weather_classifier.predict([[39,43,98]])"
   ]
  },
  {
   "cell_type": "code",
   "execution_count": null,
   "id": "72659cff",
   "metadata": {},
   "outputs": [],
   "source": []
  }
 ],
 "metadata": {
  "kernelspec": {
   "display_name": "Python 3 (ipykernel)",
   "language": "python",
   "name": "python3"
  },
  "language_info": {
   "codemirror_mode": {
    "name": "ipython",
    "version": 3
   },
   "file_extension": ".py",
   "mimetype": "text/x-python",
   "name": "python",
   "nbconvert_exporter": "python",
   "pygments_lexer": "ipython3",
   "version": "3.8.13"
  }
 },
 "nbformat": 4,
 "nbformat_minor": 5
}
